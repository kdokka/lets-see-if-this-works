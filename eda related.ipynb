{
 "cells": [
  {
   "cell_type": "code",
   "execution_count": 1,
   "metadata": {},
   "outputs": [],
   "source": [
    "import pandas as pd\n",
    "import numpy as np\n",
    "import matplotlib.pyplot as plt"
   ]
  },
  {
   "cell_type": "code",
   "execution_count": 2,
   "metadata": {},
   "outputs": [],
   "source": [
    "straindata = pd.read_excel(\"straindata.xlsx\")\n",
    "for i in range(0,27):\n",
    "    straindata.loc[i,'copy number'] = 'copy ' + str(straindata.loc[i,'copy number'])"
   ]
  },
  {
   "cell_type": "code",
   "execution_count": 3,
   "metadata": {},
   "outputs": [],
   "source": [
    "aggdata = pd.read_excel(\"aggdata.xlsx\")\n",
    "\n",
    "aggdata['protein'] = 0\n",
    "aggdata['insertion site'] = 0\n",
    "aggdata['copy number'] = 0\n",
    "aggdata['host species'] = 0\n",
    "aggdata['strain genotype'] = 0\n",
    "aggdata['kos'] = 0\n",
    "aggdata['kis'] = 0\n",
    "aggdata['stability'] = 0"
   ]
  },
  {
   "cell_type": "code",
   "execution_count": 4,
   "metadata": {},
   "outputs": [],
   "source": [
    "for i in range(0,straindata['strain_id'].shape[0]):\n",
    "    \n",
    "    filt = aggdata['strain_id'] == straindata.loc[i, 'strain_id']\n",
    "    aggdata.loc[filt, 'copy number'] = straindata.loc[i, 'copy number']\n",
    "   \n",
    "    aggdata.loc[filt, 'protein'] = straindata.loc[i, 'protein']\n",
    "                                       \n",
    "    aggdata.loc[filt, 'insertion site'] = straindata.loc[i, 'insertion site ']\n",
    "\n",
    "    aggdata.loc[filt, 'copy number'] = straindata.loc[i, 'copy number']\n",
    "\n",
    "    aggdata.loc[filt, 'host species'] = straindata.loc[i,'host species']\n",
    "\n",
    "    aggdata.loc[filt, 'strain genotype'] = straindata.loc[i,'strain genotype']\n",
    "    \n",
    "    aggdata.loc[filt, 'kos'] = straindata.loc[i,'kos']\n",
    "    aggdata.loc[filt, 'kis'] = straindata.loc[i,'kis']\n",
    "                                    \n",
    "    aggdata.loc[filt, 'stability'] = straindata.loc[i,'stability']\n"
   ]
  },
  {
   "cell_type": "code",
   "execution_count": 25,
   "metadata": {},
   "outputs": [],
   "source": [
    "X = aggdata['timepoint'].values.reshape(-1,1)"
   ]
  },
  {
   "cell_type": "code",
   "execution_count": 26,
   "metadata": {},
   "outputs": [],
   "source": [
    "y = aggdata['elisa'].values.reshape(-1,1)"
   ]
  },
  {
   "cell_type": "code",
   "execution_count": 27,
   "metadata": {},
   "outputs": [],
   "source": [
    "from sklearn.preprocessing import StandardScaler"
   ]
  },
  {
   "cell_type": "code",
   "execution_count": 28,
   "metadata": {},
   "outputs": [],
   "source": [
    "xscaler = StandardScaler()\n",
    "X = xscaler.fit_transform(X)\n",
    "\n",
    "yscaler = StandardScaler()\n",
    "y = yscaler.fit_transform(y)"
   ]
  },
  {
   "cell_type": "code",
   "execution_count": 93,
   "metadata": {},
   "outputs": [],
   "source": [
    "from sklearn.preprocessing import OneHotEncoder\n",
    "\n",
    "encoder_strainid = OneHotEncoder()\n",
    "\n",
    "strain = encoder_strainid.fit_transform(aggdata['strain_id'].values.reshape(-1,1)).toarray()\n",
    "\n"
   ]
  },
  {
   "cell_type": "code",
   "execution_count": 95,
   "metadata": {},
   "outputs": [
    {
     "data": {
      "text/plain": [
       "(733, 27)"
      ]
     },
     "execution_count": 95,
     "metadata": {},
     "output_type": "execute_result"
    }
   ],
   "source": [
    "strain.shape"
   ]
  },
  {
   "cell_type": "code",
   "execution_count": null,
   "metadata": {},
   "outputs": [],
   "source": []
  }
 ],
 "metadata": {
  "kernelspec": {
   "display_name": "Python 3",
   "language": "python",
   "name": "python3"
  },
  "language_info": {
   "codemirror_mode": {
    "name": "ipython",
    "version": 3
   },
   "file_extension": ".py",
   "mimetype": "text/x-python",
   "name": "python",
   "nbconvert_exporter": "python",
   "pygments_lexer": "ipython3",
   "version": "3.7.6"
  }
 },
 "nbformat": 4,
 "nbformat_minor": 2
}
